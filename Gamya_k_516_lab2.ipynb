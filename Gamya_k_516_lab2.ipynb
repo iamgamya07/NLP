{
  "nbformat": 4,
  "nbformat_minor": 0,
  "metadata": {
    "colab": {
      "provenance": []
    },
    "kernelspec": {
      "name": "python3",
      "display_name": "Python 3"
    },
    "language_info": {
      "name": "python"
    }
  },
  "cells": [
    {
      "cell_type": "code",
      "source": [
        "import re\n",
        "import nltk\n",
        "nltk.download('averaged_perceptron_tagger_eng')\n",
        "import spacy\n",
        "import matplotlib.pyplot as plt\n",
        "import seaborn as sns\n",
        "from collections import Counter\n",
        "from nltk.tokenize import word_tokenize, sent_tokenize\n",
        "from nltk.corpus import stopwords\n",
        "from nltk.util import ngrams\n",
        "from nltk import pos_tag\n",
        "from datetime import datetime\n",
        "\n",
        "# Download necessary NLTK resources\n",
        "nltk.download('punkt')\n",
        "nltk.download('stopwords')\n",
        "nltk.download('averaged_perceptron_tagger')\n",
        "\n",
        "# Load spaCy model for lemmatization\n",
        "nlp = spacy.load(\"en_core_web_sm\")\n"
      ],
      "metadata": {
        "colab": {
          "base_uri": "https://localhost:8080/"
        },
        "id": "uLBye_s49you",
        "outputId": "36b10c37-2619-42e1-b779-aaea75ef01b4"
      },
      "execution_count": 48,
      "outputs": [
        {
          "output_type": "stream",
          "name": "stderr",
          "text": [
            "[nltk_data] Downloading package averaged_perceptron_tagger_eng to\n",
            "[nltk_data]     /root/nltk_data...\n",
            "[nltk_data]   Package averaged_perceptron_tagger_eng is already up-to-\n",
            "[nltk_data]       date!\n",
            "[nltk_data] Downloading package punkt to /root/nltk_data...\n",
            "[nltk_data]   Package punkt is already up-to-date!\n",
            "[nltk_data] Downloading package stopwords to /root/nltk_data...\n",
            "[nltk_data]   Package stopwords is already up-to-date!\n",
            "[nltk_data] Downloading package averaged_perceptron_tagger to\n",
            "[nltk_data]     /root/nltk_data...\n",
            "[nltk_data]   Package averaged_perceptron_tagger is already up-to-\n",
            "[nltk_data]       date!\n",
            "/usr/local/lib/python3.11/dist-packages/spacy/util.py:1740: UserWarning: [W111] Jupyter notebook detected: if using `prefer_gpu()` or `require_gpu()`, include it in the same cell right before `spacy.load()` to ensure that the model is loaded on the correct device. More information: http://spacy.io/usage/v3#jupyter-notebook-gpu\n",
            "  warnings.warn(Warnings.W111)\n"
          ]
        }
      ]
    },
    {
      "cell_type": "markdown",
      "source": [
        "Define Sample Text"
      ],
      "metadata": {
        "id": "-y61YZ3gAcB2"
      }
    },
    {
      "cell_type": "code",
      "source": [
        "text = \"\"\"My name is Alex, and I work as a Data Scientist. My email is alex.data@email.com.\n",
        "I was born on 27-March-2000. You can contact me at +1-9876543210. I don't like spam emails!\n",
        "However, I love Machine Learning & NLP. AI is transforming the world; however, some people\n",
        "misuse it. Are you attending the AI Summit 2025?\"\"\"\n"
      ],
      "metadata": {
        "id": "oaBuYQ9H93LA"
      },
      "execution_count": 49,
      "outputs": []
    },
    {
      "cell_type": "markdown",
      "source": [
        "Tokenization (Words & Sentences)\n",
        " Insight: Breaks text into meaningful units.\n",
        " Application: Chatbots, voice assistants, search engines."
      ],
      "metadata": {
        "id": "P8SR4S9eAYCs"
      }
    },
    {
      "cell_type": "code",
      "source": [
        "words = word_tokenize(text)  # Word Tokenization\n",
        "sentences = sent_tokenize(text)  # Sentence Tokenization\n",
        "\n",
        "print(f\"Tokenized Words: {words}\")\n",
        "print(f\"Tokenized Sentences: {sentences}\")\n"
      ],
      "metadata": {
        "colab": {
          "base_uri": "https://localhost:8080/"
        },
        "id": "dTHO8_HS960x",
        "outputId": "f4724e5b-1e0e-4296-ccef-29ba7cf605fc"
      },
      "execution_count": 50,
      "outputs": [
        {
          "output_type": "stream",
          "name": "stdout",
          "text": [
            "Tokenized Words: ['My', 'name', 'is', 'Alex', ',', 'and', 'I', 'work', 'as', 'a', 'Data', 'Scientist', '.', 'My', 'email', 'is', 'alex.data', '@', 'email.com', '.', 'I', 'was', 'born', 'on', '27-March-2000', '.', 'You', 'can', 'contact', 'me', 'at', '+1-9876543210', '.', 'I', 'do', \"n't\", 'like', 'spam', 'emails', '!', 'However', ',', 'I', 'love', 'Machine', 'Learning', '&', 'NLP', '.', 'AI', 'is', 'transforming', 'the', 'world', ';', 'however', ',', 'some', 'people', 'misuse', 'it', '.', 'Are', 'you', 'attending', 'the', 'AI', 'Summit', '2025', '?']\n",
            "Tokenized Sentences: ['My name is Alex, and I work as a Data Scientist.', 'My email is alex.data@email.com.', 'I was born on 27-March-2000.', 'You can contact me at +1-9876543210.', \"I don't like spam emails!\", 'However, I love Machine Learning & NLP.', 'AI is transforming the world; however, some people\\nmisuse it.', 'Are you attending the AI Summit 2025?']\n"
          ]
        }
      ]
    },
    {
      "cell_type": "markdown",
      "source": [
        "Count Unique Tokens\n",
        "  Insight: Measures vocabulary richness.\n",
        "  Application: Plagiarism detection, text complexity analysis."
      ],
      "metadata": {
        "id": "O0gndJ1LAU3a"
      }
    },
    {
      "cell_type": "code",
      "source": [
        "unique_tokens = set(words)\n",
        "print(f\"Unique Tokens Count: {len(unique_tokens)}\")\n"
      ],
      "metadata": {
        "colab": {
          "base_uri": "https://localhost:8080/"
        },
        "id": "gsAchtAb9-id",
        "outputId": "bc55e0cf-38c8-4c17-8578-32883bbd58f9"
      },
      "execution_count": 51,
      "outputs": [
        {
          "output_type": "stream",
          "name": "stdout",
          "text": [
            "Unique Tokens Count: 55\n"
          ]
        }
      ]
    },
    {
      "cell_type": "markdown",
      "source": [
        "Count and Remove Punctuations: Standardizes text for NLP models. Application: Preprocessing for sentiment analysis, spam detection."
      ],
      "metadata": {
        "id": "jMUrqe1nARs2"
      }
    },
    {
      "cell_type": "code",
      "source": [
        "punctuation_count = sum(1 for char in text if char in \".,!?;:-\")\n",
        "text_no_punct = re.sub(r'[^\\w\\s]', '', text)\n",
        "print(f\"Punctuation Count: {punctuation_count}\")\n"
      ],
      "metadata": {
        "colab": {
          "base_uri": "https://localhost:8080/"
        },
        "id": "Nq0UEjl9-CF-",
        "outputId": "0940d95d-860a-454b-de4e-3ad2dfbefee0"
      },
      "execution_count": 52,
      "outputs": [
        {
          "output_type": "stream",
          "name": "stdout",
          "text": [
            "Punctuation Count: 17\n"
          ]
        }
      ]
    },
    {
      "cell_type": "markdown",
      "source": [
        "Stopwords Analysis: Identifies word roles (nouns, verbs, etc.). Application: Grammar checking, machine translation."
      ],
      "metadata": {
        "id": "ks2LOPNTAOJB"
      }
    },
    {
      "cell_type": "code",
      "source": [
        "stop_words = set(stopwords.words('english'))\n",
        "stopword_counts = Counter(word.lower() for word in words if word.lower() in stop_words)\n",
        "\n",
        "# Plot stopwords distribution\n",
        "plt.figure(figsize=(10, 5))\n",
        "sns.barplot(x=list(stopword_counts.keys()), y=list(stopword_counts.values()))\n",
        "plt.title(\"Stopwords Distribution\")\n",
        "plt.show()\n"
      ],
      "metadata": {
        "colab": {
          "base_uri": "https://localhost:8080/",
          "height": 468
        },
        "id": "uT7GnEA5-FS2",
        "outputId": "e4b05af2-3c11-44fb-cadb-f8da526d4f0d"
      },
      "execution_count": 53,
      "outputs": [
        {
          "output_type": "display_data",
          "data": {
            "text/plain": [
              "<Figure size 1000x500 with 1 Axes>"
            ],
            "image/png": "[encoded data removed]"
          },
          "metadata": {}
        }
      ]
    },
    {
      "cell_type": "markdown",
      "source": [
        "Remove Stopwords"
      ],
      "metadata": {
        "id": "dO2XzpdRAJoo"
      }
    },
    {
      "cell_type": "code",
      "source": [
        "filtered_tokens = [word for word in words if word.lower() not in stop_words]\n",
        "print(f\"Filtered Tokens (Without Stopwords): {filtered_tokens}\")\n"
      ],
      "metadata": {
        "colab": {
          "base_uri": "https://localhost:8080/"
        },
        "id": "CaBTPymg-J6j",
        "outputId": "3bced787-a646-4e74-e8c0-c1a892f35771"
      },
      "execution_count": null,
      "outputs": [
        {
          "output_type": "stream",
          "name": "stdout",
          "text": [
            "Filtered Tokens (Without Stopwords): ['name', 'Alex', ',', 'work', 'Data', 'Scientist', '.', 'email', 'alex.data', '@', 'email.com', '.', 'born', '27-March-2000', '.', 'contact', '+1-9876543210', '.', \"n't\", 'like', 'spam', 'emails', '!', 'However', ',', 'love', 'Machine', 'Learning', '&', 'NLP', '.', 'AI', 'transforming', 'world', ';', 'however', ',', 'people', 'misuse', '.', 'attending', 'AI', 'Summit', '2025', '?']\n"
          ]
        }
      ]
    },
    {
      "cell_type": "markdown",
      "source": [
        "POS Tagging & Plot Distribution: Identifies word roles (nouns, verbs, etc.). Application: Grammar checking, machine translation."
      ],
      "metadata": {
        "id": "10N6AH2xAGd1"
      }
    },
    {
      "cell_type": "code",
      "source": [
        "pos_tags = pos_tag(filtered_tokens)\n",
        "pos_counts = Counter(tag for word, tag in pos_tags)\n",
        "\n",
        "plt.figure(figsize=(12, 6))\n",
        "sns.barplot(x=list(pos_counts.keys()), y=list(pos_counts.values()))\n",
        "plt.title(\"POS Tag Distribution\")\n",
        "plt.xticks(rotation=45)\n",
        "plt.show()\n"
      ],
      "metadata": {
        "colab": {
          "base_uri": "https://localhost:8080/",
          "height": 561
        },
        "id": "mdrBF0bz-O4u",
        "outputId": "49e0006e-0c3d-45ac-f4b1-7d15a665b781"
      },
      "execution_count": null,
      "outputs": [
        {
          "output_type": "display_data",
          "data": {
            "text/plain": [
              "<Figure size 1200x600 with 1 Axes>"
            ],
            "image/png": "[encoded data removed]"
          },
          "metadata": {}
        }
      ]
    },
    {
      "cell_type": "markdown",
      "source": [
        "Lemmatization & Count Unique Lemmas: Converts words to base forms for better text analysis. Application: Search engines, chatbots, speech recognition."
      ],
      "metadata": {
        "id": "HhkpZyXKADH1"
      }
    },
    {
      "cell_type": "code",
      "source": [
        "lemmas = [token.lemma_ for token in nlp(\" \".join(filtered_tokens))]\n",
        "unique_lemmas = set(lemmas)\n",
        "print(f\"Unique Lemmas: {len(unique_lemmas)}\")\n"
      ],
      "metadata": {
        "colab": {
          "base_uri": "https://localhost:8080/"
        },
        "id": "BMI1UOVm-v9q",
        "outputId": "5bf5e275-2dce-42f4-8c5e-54be05f40671"
      },
      "execution_count": null,
      "outputs": [
        {
          "output_type": "stream",
          "name": "stdout",
          "text": [
            "Unique Lemmas: 38\n"
          ]
        }
      ]
    },
    {
      "cell_type": "markdown",
      "source": [
        "Plot Top 10 Most Frequent Words: Finds most commonly used words. Application: Keyword extraction, content recommendation."
      ],
      "metadata": {
        "id": "Y_3IfiFl__4Z"
      }
    },
    {
      "cell_type": "code",
      "source": [
        "word_counts = Counter(filtered_tokens)\n",
        "top_10_words = word_counts.most_common(10)\n",
        "\n",
        "plt.figure(figsize=(12, 5))\n",
        "sns.barplot(x=[word[0] for word in top_10_words], y=[word[1] for word in top_10_words])\n",
        "plt.title(\"Top 10 Most Frequent Words\")\n",
        "plt.show()\n"
      ],
      "metadata": {
        "colab": {
          "base_uri": "https://localhost:8080/",
          "height": 468
        },
        "id": "h-w6a_MH-zZq",
        "outputId": "c8f7b0ab-498e-4f55-d254-0454400d1d19"
      },
      "execution_count": null,
      "outputs": [
        {
          "output_type": "display_data",
          "data": {
            "text/plain": [
              "<Figure size 1200x500 with 1 Axes>"
            ],
            "image/png": "[encoded data removed]"
          },
          "metadata": {}
        }
      ]
    },
    {
      "cell_type": "markdown",
      "source": [
        "Find Bigrams, Trigrams, and Quadgrams: Captures word sequences for contextual understanding. Application: Auto-suggestions, text prediction."
      ],
      "metadata": {
        "id": "9HgwM502_8Yc"
      }
    },
    {
      "cell_type": "code",
      "source": [
        "bigrams = list(ngrams(filtered_tokens, 2))\n",
        "trigrams = list(ngrams(filtered_tokens, 3))\n",
        "quadgrams = list(ngrams(filtered_tokens, 4))\n",
        "\n",
        "print(f\"Unique Bigrams: {len(bigrams)}, Trigrams: {len(trigrams)}, Quadgrams: {len(quadgrams)}\")\n"
      ],
      "metadata": {
        "colab": {
          "base_uri": "https://localhost:8080/"
        },
        "id": "nf-qV5v1-3n8",
        "outputId": "48850ae5-27cd-47f1-f827-4a17e62a8f0e"
      },
      "execution_count": null,
      "outputs": [
        {
          "output_type": "stream",
          "name": "stdout",
          "text": [
            "Unique Bigrams: 44, Trigrams: 43, Quadgrams: 42\n"
          ]
        }
      ]
    },
    {
      "cell_type": "markdown",
      "source": [
        "Extract & Format Dates:Identifies and standardizes date formats. Application: Event scheduling, timeline analysis.\n"
      ],
      "metadata": {
        "id": "CZdOy5ev_2wL"
      }
    },
    {
      "cell_type": "code",
      "source": [
        "date_pattern = r'\\b(\\d{1,2})[- ](January|February|March|April|May|June|July|August|September|October|November|December)[- ](\\d{4})\\b'\n",
        "matches = re.findall(date_pattern, text)\n",
        "\n",
        "# Convert dates to DD-MM-YYYY format\n",
        "formatted_dates = [f\"{m[0]}-{m[1][:3]}-{m[2]}\" for m in matches]\n",
        "print(f\"Formatted Dates: {formatted_dates}\")\n"
      ],
      "metadata": {
        "colab": {
          "base_uri": "https://localhost:8080/"
        },
        "id": "DnbRXqqn-63o",
        "outputId": "f99f136c-cf54-425d-a6fe-5040179bdc58"
      },
      "execution_count": null,
      "outputs": [
        {
          "output_type": "stream",
          "name": "stdout",
          "text": [
            "Formatted Dates: ['27-Mar-2000']\n"
          ]
        }
      ]
    },
    {
      "cell_type": "markdown",
      "source": [
        "Extract Years and Plot Distribution"
      ],
      "metadata": {
        "id": "gS8vA9G0_y4m"
      }
    },
    {
      "cell_type": "code",
      "source": [
        "years = [int(m[2]) for m in matches]\n",
        "\n",
        "plt.figure(figsize=(8, 4))\n",
        "sns.histplot(years, bins=len(set(years)), kde=True)\n",
        "plt.title(\"Year Distribution in Text\")\n",
        "plt.xlabel(\"Year\")\n",
        "plt.ylabel(\"Count\")\n",
        "plt.show()\n"
      ],
      "metadata": {
        "colab": {
          "base_uri": "https://localhost:8080/",
          "height": 410
        },
        "id": "xvmlq3_N_A7S",
        "outputId": "c6ff09f0-282f-45d9-f681-a2e6ba21dea3"
      },
      "execution_count": null,
      "outputs": [
        {
          "output_type": "display_data",
          "data": {
            "text/plain": [
              "<Figure size 800x400 with 1 Axes>"
            ],
            "image/png": "[encoded data removed]"
          },
          "metadata": {}
        }
      ]
    },
    {
      "cell_type": "markdown",
      "source": [
        "Extract & Validate Phone Numbers: Detects valid phone numbers in text. Application: Contact extraction, fraud detection."
      ],
      "metadata": {
        "id": "gVx49LVo_ub0"
      }
    },
    {
      "cell_type": "code",
      "source": [
        "phone_pattern = r'\\+?1[-\\s]?\\d{10}'\n",
        "valid_phones = re.findall(phone_pattern, text)\n",
        "print(f\"Valid Phone Numbers: {valid_phones}\")\n"
      ],
      "metadata": {
        "colab": {
          "base_uri": "https://localhost:8080/"
        },
        "id": "FBmomoVw_F7f",
        "outputId": "1668f889-21a7-405e-b777-ca10469476e1"
      },
      "execution_count": null,
      "outputs": [
        {
          "output_type": "stream",
          "name": "stdout",
          "text": [
            "Valid Phone Numbers: ['+1-9876543210']\n"
          ]
        }
      ]
    }
  ]
}