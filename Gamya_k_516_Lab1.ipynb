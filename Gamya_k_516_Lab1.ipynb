{
  "nbformat": 4,
  "nbformat_minor": 0,
  "metadata": {
    "colab": {
      "provenance": []
    },
    "kernelspec": {
      "name": "python3",
      "display_name": "Python 3"
    },
    "language_info": {
      "name": "python"
    }
  },
  "cells": [
    {
      "cell_type": "code",
      "source": [
        "import nltk\n",
        "from nltk.tokenize import word_tokenize, sent_tokenize, TreebankWordTokenizer, TweetTokenizer\n",
        "from nltk.tokenize.mwe import MWETokenizer\n",
        "from textblob import TextBlob\n",
        "import spacy\n",
        "from gensim.utils import simple_preprocess\n",
        "from tensorflow.keras.preprocessing.text import text_to_word_sequence\n",
        "import string"
      ],
      "metadata": {
        "id": "figACbvj1bKI"
      },
      "execution_count": 28,
      "outputs": []
    },
    {
      "cell_type": "code",
      "source": [
        "# Download the missing 'punkt_tab' dataset\n",
        "nltk.download('punkt_tab')\n",
        "\n",
        "# Download necessary NLTK data files\n",
        "nltk.download('punkt')\n",
        "nltk.download('averaged_perceptron_tagger')"
      ],
      "metadata": {
        "colab": {
          "base_uri": "https://localhost:8080/"
        },
        "id": "xUN73j8V3sky",
        "outputId": "0850f14c-10bd-4320-fa65-a493858d20cc"
      },
      "execution_count": 29,
      "outputs": [
        {
          "output_type": "stream",
          "name": "stderr",
          "text": [
            "[nltk_data] Downloading package punkt_tab to /root/nltk_data...\n",
            "[nltk_data]   Package punkt_tab is already up-to-date!\n",
            "[nltk_data] Downloading package punkt to /root/nltk_data...\n",
            "[nltk_data]   Package punkt is already up-to-date!\n",
            "[nltk_data] Downloading package averaged_perceptron_tagger to\n",
            "[nltk_data]     /root/nltk_data...\n",
            "[nltk_data]   Package averaged_perceptron_tagger is already up-to-\n",
            "[nltk_data]       date!\n"
          ]
        },
        {
          "output_type": "execute_result",
          "data": {
            "text/plain": [
              "True"
            ]
          },
          "metadata": {},
          "execution_count": 29
        }
      ]
    },
    {
      "cell_type": "code",
      "source": [
        "# Load spaCy model\n",
        "try:\n",
        "    nlp = spacy.load(\"en_core_web_sm\")\n",
        "except OSError:\n",
        "    import os\n",
        "    os.system(\"python -m spacy download en_core_web_sm\")\n",
        "    nlp = spacy.load(\"en_core_web_sm\")"
      ],
      "metadata": {
        "id": "YtMsVcio3xu6"
      },
      "execution_count": 30,
      "outputs": []
    },
    {
      "cell_type": "code",
      "source": [
        "#Define Sample text\n",
        "text = \"Machine learning 🤖🔥 is evolving rapidly! It's not just about models, but data too. Don't ignore feature selection!!!\""
      ],
      "metadata": {
        "id": "2i531ZEL32OQ"
      },
      "execution_count": 31,
      "outputs": []
    },
    {
      "cell_type": "markdown",
      "source": [
        "Word Tokenization – Splits text into words; useful for text analysis, NLP tasks, and search engines."
      ],
      "metadata": {
        "id": "4bwo9iqK4srz"
      }
    },
    {
      "cell_type": "code",
      "source": [
        "#Word Tokenization\n",
        "word_tokens = word_tokenize(text)\n",
        "print(\"Step 4 - Word Tokenization:\", word_tokens)"
      ],
      "metadata": {
        "colab": {
          "base_uri": "https://localhost:8080/"
        },
        "id": "R4qYgENV366K",
        "outputId": "f8e51b11-16d6-4635-8e10-6786b8dda06d"
      },
      "execution_count": 32,
      "outputs": [
        {
          "output_type": "stream",
          "name": "stdout",
          "text": [
            "Step 4 - Word Tokenization: ['Machine', 'learning', '🤖🔥', 'is', 'evolving', 'rapidly', '!', 'It', \"'s\", 'not', 'just', 'about', 'models', ',', 'but', 'data', 'too', '.', 'Do', \"n't\", 'ignore', 'feature', 'selection', '!', '!', '!']\n"
          ]
        }
      ]
    },
    {
      "cell_type": "markdown",
      "source": [
        "Sentence Tokenization – Segments text into sentences; crucial for sentiment analysis, chatbots, and summarization."
      ],
      "metadata": {
        "id": "LuAitAl_4xTh"
      }
    },
    {
      "cell_type": "code",
      "source": [
        "#Sentence Tokenization\n",
        "sentence_tokens = sent_tokenize(text)\n",
        "print(\"Step 5 - Sentence Tokenization:\", sentence_tokens)"
      ],
      "metadata": {
        "colab": {
          "base_uri": "https://localhost:8080/"
        },
        "id": "Pw9ar4cB1eDa",
        "outputId": "c302e32f-7d3f-4083-9bcb-170a2cd717ad"
      },
      "execution_count": 18,
      "outputs": [
        {
          "output_type": "stream",
          "name": "stdout",
          "text": [
            "Step 5 - Sentence Tokenization: ['Machine learning 🤖🔥 is evolving rapidly!', \"It's not just about models, but data too.\", \"Don't ignore feature selection!!\", '!']\n"
          ]
        }
      ]
    },
    {
      "cell_type": "markdown",
      "source": [
        "Punctuation-based Tokenization – Extracts punctuation marks; helps in syntactic analysis and emotion detection."
      ],
      "metadata": {
        "id": "Ctkyhad_41dl"
      }
    },
    {
      "cell_type": "code",
      "source": [
        "#Punctuation-based Tokenizer\n",
        "punctuation_tokens = [char for char in text if char in string.punctuation]\n",
        "print(\"Step 6 - Punctuation-based Tokenization:\", punctuation_tokens)\n"
      ],
      "metadata": {
        "colab": {
          "base_uri": "https://localhost:8080/"
        },
        "id": "fdextWi91iVR",
        "outputId": "a725e177-0b37-4662-a0c9-8c29710e6d01"
      },
      "execution_count": 19,
      "outputs": [
        {
          "output_type": "stream",
          "name": "stdout",
          "text": [
            "Step 6 - Punctuation-based Tokenization: ['!', \"'\", ',', '.', \"'\", '!', '!', '!']\n"
          ]
        }
      ]
    },
    {
      "cell_type": "markdown",
      "source": [
        "Treebank Word Tokenizer – Handles contractions and complex word forms; used in POS tagging and parsing."
      ],
      "metadata": {
        "id": "JuDmfYbj457c"
      }
    },
    {
      "cell_type": "code",
      "source": [
        "#Treebank Word Tokenizer\n",
        "treebank_tokenizer = TreebankWordTokenizer()\n",
        "treebank_tokens = treebank_tokenizer.tokenize(text)\n",
        "print(\"Step 7 - Treebank Word Tokenization:\", treebank_tokens)"
      ],
      "metadata": {
        "colab": {
          "base_uri": "https://localhost:8080/"
        },
        "id": "MwCnXVxt1nrW",
        "outputId": "317efe90-88ac-457e-fa74-168958ba6565"
      },
      "execution_count": 20,
      "outputs": [
        {
          "output_type": "stream",
          "name": "stdout",
          "text": [
            "Step 7 - Treebank Word Tokenization: ['Machine', 'learning', '🤖🔥', 'is', 'evolving', 'rapidly', '!', 'It', \"'s\", 'not', 'just', 'about', 'models', ',', 'but', 'data', 'too.', 'Do', \"n't\", 'ignore', 'feature', 'selection', '!', '!', '!']\n"
          ]
        }
      ]
    },
    {
      "cell_type": "markdown",
      "source": [
        "Tweet Tokenizer – Processes social media text, handling emojis and hashtags; valuable for sentiment analysis and trend tracking."
      ],
      "metadata": {
        "id": "clXuhZiC493a"
      }
    },
    {
      "cell_type": "code",
      "source": [
        "#Tweet Tokenizer\n",
        "tweet_tokenizer = TweetTokenizer()\n",
        "tweet_tokens = tweet_tokenizer.tokenize(text)\n",
        "print(\"Step 8 - Tweet Tokenization:\", tweet_tokens)"
      ],
      "metadata": {
        "colab": {
          "base_uri": "https://localhost:8080/"
        },
        "id": "IEfXn16S1sc_",
        "outputId": "80388e13-f41d-49ae-f86b-56ff3afabee5"
      },
      "execution_count": 21,
      "outputs": [
        {
          "output_type": "stream",
          "name": "stdout",
          "text": [
            "Step 8 - Tweet Tokenization: ['Machine', 'learning', '🤖', '🔥', 'is', 'evolving', 'rapidly', '!', \"It's\", 'not', 'just', 'about', 'models', ',', 'but', 'data', 'too', '.', \"Don't\", 'ignore', 'feature', 'selection', '!', '!', '!']\n"
          ]
        }
      ]
    },
    {
      "cell_type": "markdown",
      "source": [
        "Multi-Word Expression Tokenizer – Detects multi-word phrases; useful in named entity recognition and domain-specific NLP."
      ],
      "metadata": {
        "id": "U6YbO0qQ5BSH"
      }
    },
    {
      "cell_type": "code",
      "source": [
        "#Multi-Word Expression Tokenizer\n",
        "mwe_tokenizer = MWETokenizer([(\"feature\", \"selection\")])\n",
        "mwe_tokens = mwe_tokenizer.tokenize(word_tokenize(text))\n",
        "print(\"Step 9 - Multi-Word Expression Tokenization:\", mwe_tokens)"
      ],
      "metadata": {
        "colab": {
          "base_uri": "https://localhost:8080/"
        },
        "id": "oFgAO5TG1w_Q",
        "outputId": "8662e0fc-f0c8-4514-89b6-aa2100fa95ae"
      },
      "execution_count": 22,
      "outputs": [
        {
          "output_type": "stream",
          "name": "stdout",
          "text": [
            "Step 9 - Multi-Word Expression Tokenization: ['Machine', 'learning', '🤖🔥', 'is', 'evolving', 'rapidly', '!', 'It', \"'s\", 'not', 'just', 'about', 'models', ',', 'but', 'data', 'too', '.', 'Do', \"n't\", 'ignore', 'feature_selection', '!', '!', '!']\n"
          ]
        }
      ]
    },
    {
      "cell_type": "markdown",
      "source": [
        "TextBlob Tokenizer – Provides simple tokenization; beneficial for quick prototyping in NLP projects."
      ],
      "metadata": {
        "id": "KGvkLeF55Ex-"
      }
    },
    {
      "cell_type": "code",
      "source": [
        "#TextBlob Tokenization\n",
        "blob = TextBlob(text)\n",
        "textblob_tokens = blob.words\n",
        "print(\"Step 10 - TextBlob Word Tokenization:\", textblob_tokens)"
      ],
      "metadata": {
        "colab": {
          "base_uri": "https://localhost:8080/"
        },
        "id": "UhNerApY147s",
        "outputId": "b72e3afe-c596-4b3f-d1c6-2d3c0e78a3d5"
      },
      "execution_count": 23,
      "outputs": [
        {
          "output_type": "stream",
          "name": "stdout",
          "text": [
            "Step 10 - TextBlob Word Tokenization: ['Machine', 'learning', '🤖🔥', 'is', 'evolving', 'rapidly', 'It', \"'s\", 'not', 'just', 'about', 'models', 'but', 'data', 'too', 'Do', \"n't\", 'ignore', 'feature', 'selection']\n"
          ]
        }
      ]
    },
    {
      "cell_type": "markdown",
      "source": [
        "spaCy Tokenizer – Fast and efficient; used in large-scale NLP applications like chatbots and recommendation systems."
      ],
      "metadata": {
        "id": "25lCwDA_5IIy"
      }
    },
    {
      "cell_type": "code",
      "source": [
        "#spaCy Tokenizer\n",
        "doc = nlp(text)\n",
        "spacy_tokens = [token.text for token in doc]\n",
        "print(\"Step 11 - spaCy Tokenization:\", spacy_tokens)\n"
      ],
      "metadata": {
        "colab": {
          "base_uri": "https://localhost:8080/"
        },
        "id": "4-dDiafi185f",
        "outputId": "f271b52c-7a9c-4908-9a76-63ebb9cc7278"
      },
      "execution_count": 24,
      "outputs": [
        {
          "output_type": "stream",
          "name": "stdout",
          "text": [
            "Step 11 - spaCy Tokenization: ['Machine', 'learning', '🤖', '🔥', 'is', 'evolving', 'rapidly', '!', 'It', \"'s\", 'not', 'just', 'about', 'models', ',', 'but', 'data', 'too', '.', 'Do', \"n't\", 'ignore', 'feature', 'selection', '!', '!', '!']\n"
          ]
        }
      ]
    },
    {
      "cell_type": "markdown",
      "source": [
        "Gensim Tokenizer – Optimized for topic modeling and word embedding preprocessing."
      ],
      "metadata": {
        "id": "6MvrbxxD5O0f"
      }
    },
    {
      "cell_type": "code",
      "source": [
        "#Gensim Tokenizer\n",
        "gensim_tokens = simple_preprocess(text)\n",
        "print(\"Step 12 - Gensim Tokenization:\", gensim_tokens)"
      ],
      "metadata": {
        "colab": {
          "base_uri": "https://localhost:8080/"
        },
        "id": "ZwijVlsT2Afn",
        "outputId": "64746e00-b4ef-4ee3-ad9f-fd22c7bebcf0"
      },
      "execution_count": 25,
      "outputs": [
        {
          "output_type": "stream",
          "name": "stdout",
          "text": [
            "Step 12 - Gensim Tokenization: ['machine', 'learning', 'is', 'evolving', 'rapidly', 'it', 'not', 'just', 'about', 'models', 'but', 'data', 'too', 'don', 'ignore', 'feature', 'selection']\n"
          ]
        }
      ]
    },
    {
      "cell_type": "markdown",
      "source": [
        "Keras Tokenizer – Converts text to sequences for deep learning models; applied in text classification and sentiment analysis."
      ],
      "metadata": {
        "id": "HjhHM60K5THY"
      }
    },
    {
      "cell_type": "code",
      "source": [
        "#Keras Tokenization\n",
        "keras_tokens = text_to_word_sequence(text)\n",
        "print(\"Step 13 - Keras Tokenization:\", keras_tokens)\n"
      ],
      "metadata": {
        "colab": {
          "base_uri": "https://localhost:8080/"
        },
        "id": "f2FwzLGG2HN8",
        "outputId": "7473a6c9-4965-4ac1-f137-13eefc0faa14"
      },
      "execution_count": 33,
      "outputs": [
        {
          "output_type": "stream",
          "name": "stdout",
          "text": [
            "Step 13 - Keras Tokenization: ['machine', 'learning', '🤖🔥', 'is', 'evolving', 'rapidly', \"it's\", 'not', 'just', 'about', 'models', 'but', 'data', 'too', \"don't\", 'ignore', 'feature', 'selection']\n"
          ]
        }
      ]
    }
  ]
}